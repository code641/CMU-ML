{
 "cells": [
  {
   "cell_type": "code",
   "execution_count": 2,
   "id": "037f427e-5b3a-44f2-91bd-b20826ca5e52",
   "metadata": {},
   "outputs": [
    {
     "name": "stdout",
     "output_type": "stream",
     "text": [
      "Read 148517 rows.\n"
     ]
    },
    {
     "name": "stderr",
     "output_type": "stream",
     "text": [
      "/var/folders/6g/p3q58mdj0cz5m1zbkcgdzbsm0000gn/T/ipykernel_52334/1562277949.py:27: FutureWarning: The behavior of DataFrame concatenation with empty or all-NA entries is deprecated. In a future version, this will no longer exclude empty or all-NA columns when determining the result dtypes. To retain the old behavior, exclude the relevant entries before the concat operation.\n",
      "  final_train_df = pd.concat([final_train_df, train_label_df])\n",
      "/var/folders/6g/p3q58mdj0cz5m1zbkcgdzbsm0000gn/T/ipykernel_52334/1562277949.py:28: FutureWarning: The behavior of DataFrame concatenation with empty or all-NA entries is deprecated. In a future version, this will no longer exclude empty or all-NA columns when determining the result dtypes. To retain the old behavior, exclude the relevant entries before the concat operation.\n",
      "  final_test_df = pd.concat([final_test_df, test_label_df])\n"
     ]
    },
    {
     "name": "stdout",
     "output_type": "stream",
     "text": [
      "Training set distribution:\n",
      "outcome\n",
      "normal       0.518889\n",
      "neptune      0.308894\n",
      "               ...   \n",
      "sqlattack    0.000008\n",
      "udpstorm     0.000008\n",
      "Name: proportion, Length: 40, dtype: float64\n",
      "\n",
      "Test set distribution:\n",
      "outcome\n",
      "normal       0.518557\n",
      "neptune      0.308725\n",
      "               ...   \n",
      "sqlattack    0.000034\n",
      "udpstorm     0.000034\n",
      "Name: proportion, Length: 40, dtype: float64\n",
      "New training set:\n",
      "      duration protocol_type service  ... dst_host_srv_rerror_rate outcome  \\\n",
      "4016         0           tcp    http  ...                      1.0  normal   \n",
      "50212        0           tcp    http  ...                      0.0  normal   \n",
      "12892        0           tcp    http  ...                      0.0  normal   \n",
      "38812        0           tcp    http  ...                      0.0  normal   \n",
      "19714        0           tcp    http  ...                      0.0  normal   \n",
      "\n",
      "      difficulty_level  \n",
      "4016                21  \n",
      "50212               21  \n",
      "12892               21  \n",
      "38812               21  \n",
      "19714               21  \n",
      "\n",
      "[5 rows x 43 columns]\n",
      "\n",
      "New test set:\n",
      "       duration protocol_type   service  ... dst_host_srv_rerror_rate outcome  \\\n",
      "136113        0           tcp     other  ...                      1.0  normal   \n",
      "28918         0           udp  domain_u  ...                      0.0  normal   \n",
      "42784         5           tcp      smtp  ...                      0.0  normal   \n",
      "18592         0           tcp      http  ...                      0.0  normal   \n",
      "41670         0           tcp      http  ...                      0.0  normal   \n",
      "\n",
      "       difficulty_level  \n",
      "136113                3  \n",
      "28918                18  \n",
      "42784                21  \n",
      "18592                21  \n",
      "41670                21  \n",
      "\n",
      "[5 rows x 43 columns]\n"
     ]
    }
   ],
   "source": [
    "import pandas as pd\n",
    "from sklearn.model_selection import train_test_split\n",
    "\n",
    "pd.set_option('display.max_columns', 6)\n",
    "pd.set_option('display.max_rows', 5)\n",
    "\n",
    "#takes in the detailed train and test files that have been previously made.\n",
    "train_path = 'train_detailed.csv'\n",
    "test_path = 'test_detailed.csv'\n",
    "\n",
    "train_df = pd.read_csv(train_path, header=0)\n",
    "test_df = pd.read_csv(test_path, header=0)\n",
    "\n",
    "#the files are merged together\n",
    "df = pd.concat([train_df, test_df], ignore_index=True)\n",
    "\n",
    "print(\"Read {} rows.\".format(len(df)))\n",
    "df.dropna(inplace=True, axis=1)\n",
    "\n",
    "unique_labels = df['outcome'].unique()\n",
    "\n",
    "final_train_df = pd.DataFrame(columns=df.columns)\n",
    "final_test_df = pd.DataFrame(columns=df.columns)\n",
    "\n",
    "#the files are split to ensure an equal representation of each label in both the training and testing files. 80-20 split is shown.\n",
    "for label in unique_labels:\n",
    "    label_df = df[df['outcome'] == label]\n",
    "    train_label_df, test_label_df = train_test_split(label_df, test_size=0.2, random_state=42)\n",
    "    \n",
    "    final_train_df = pd.concat([final_train_df, train_label_df])\n",
    "    final_test_df = pd.concat([final_test_df, test_label_df])\n",
    "\n",
    "train_labels = final_train_df['outcome']\n",
    "test_labels = final_test_df['outcome']\n",
    "\n",
    "print('Training set distribution:')\n",
    "print(train_labels.value_counts(normalize=True))\n",
    "print('\\nTest set distribution:')\n",
    "print(test_labels.value_counts(normalize=True))\n",
    "\n",
    "#the csv files are downloaded, however preprocessing will still need to be done manually.\n",
    "final_train_df.to_csv('train-80.csv', index=False)\n",
    "final_test_df.to_csv('test-20.csv', index=False)\n",
    "#df.to_csv('combined.csv', index=False)\n",
    "print(\"New training set:\")\n",
    "print(final_train_df.head())\n",
    "print(\"\\nNew test set:\")\n",
    "print(final_test_df.head())"
   ]
  },
  {
   "cell_type": "code",
   "execution_count": null,
   "id": "2a8421a0-ac38-45f5-80be-28a586543515",
   "metadata": {},
   "outputs": [],
   "source": []
  }
 ],
 "metadata": {
  "kernelspec": {
   "display_name": "Python 3 (ipykernel)",
   "language": "python",
   "name": "python3"
  },
  "language_info": {
   "codemirror_mode": {
    "name": "ipython",
    "version": 3
   },
   "file_extension": ".py",
   "mimetype": "text/x-python",
   "name": "python",
   "nbconvert_exporter": "python",
   "pygments_lexer": "ipython3",
   "version": "3.12.3"
  }
 },
 "nbformat": 4,
 "nbformat_minor": 5
}
