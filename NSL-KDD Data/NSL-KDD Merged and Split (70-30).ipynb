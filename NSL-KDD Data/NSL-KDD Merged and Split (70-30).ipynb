{
 "cells": [
  {
   "cell_type": "code",
   "execution_count": null,
   "id": "bc24845c-4edc-4c13-835c-643b8a12ed9e",
   "metadata": {},
   "outputs": [],
   "source": [
    "import pandas as pd\n",
    "from sklearn.model_selection import train_test_split\n",
    "\n",
    "pd.set_option('display.max_columns', 6)\n",
    "pd.set_option('display.max_rows', 5)\n",
    "\n",
    "#takes in the detailed train and test files that have been previously made.\n",
    "train_path = 'train_detailed.csv'\n",
    "test_path = 'test_detailed.csv'\n",
    "\n",
    "train_df = pd.read_csv(train_path, header=0)\n",
    "test_df = pd.read_csv(test_path, header=0)\n",
    "\n",
    "#the files are merged together\n",
    "df = pd.concat([train_df, test_df], ignore_index=True)\n",
    "\n",
    "print(\"Read {} rows.\".format(len(df)))\n",
    "df.dropna(inplace=True, axis=1)\n",
    "\n",
    "unique_labels = df['outcome'].unique()\n",
    "\n",
    "final_train_df = pd.DataFrame(columns=df.columns)\n",
    "final_test_df = pd.DataFrame(columns=df.columns)\n",
    "\n",
    "#the files are split to ensure an equal representation of each label in both the training and testing files. 70-30 split is shown.\n",
    "for label in unique_labels:\n",
    "    label_df = df[df['outcome'] == label]\n",
    "    train_label_df, test_label_df = train_test_split(label_df, test_size=0.3, random_state=42)\n",
    "    \n",
    "    final_train_df = pd.concat([final_train_df, train_label_df])\n",
    "    final_test_df = pd.concat([final_test_df, test_label_df])\n",
    "\n",
    "train_labels = final_train_df['outcome']\n",
    "test_labels = final_test_df['outcome']\n",
    "\n",
    "print('Training set distribution:')\n",
    "print(train_labels.value_counts(normalize=True))\n",
    "print('\\nTest set distribution:')\n",
    "print(test_labels.value_counts(normalize=True))\n",
    "\n",
    "#the csv files are downloaded, however preprocessing will still need to be done manually.\n",
    "final_train_df.to_csv('train-70.csv', index=False)\n",
    "final_test_df.to_csv('test-30.csv', index=False)\n",
    "#df.to_csv('combined.csv', index=False)\n",
    "print(\"New training set:\")\n",
    "print(final_train_df.head())\n",
    "print(\"\\nNew test set:\")\n",
    "print(final_test_df.head())"
   ]
  },
  {
   "cell_type": "code",
   "execution_count": null,
   "id": "a864021e-a98e-4cea-9d80-10d1f72aad53",
   "metadata": {},
   "outputs": [],
   "source": []
  }
 ],
 "metadata": {
  "kernelspec": {
   "display_name": "Python 3 (ipykernel)",
   "language": "python",
   "name": "python3"
  },
  "language_info": {
   "codemirror_mode": {
    "name": "ipython",
    "version": 3
   },
   "file_extension": ".py",
   "mimetype": "text/x-python",
   "name": "python",
   "nbconvert_exporter": "python",
   "pygments_lexer": "ipython3",
   "version": "3.12.3"
  }
 },
 "nbformat": 4,
 "nbformat_minor": 5
}
